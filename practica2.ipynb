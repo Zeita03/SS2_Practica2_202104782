{
  "nbformat": 4,
  "nbformat_minor": 0,
  "metadata": {
    "colab": {
      "provenance": [],
      "authorship_tag": "ABX9TyM02qpYO2od98EsOh82BO2c",
      "include_colab_link": true
    },
    "kernelspec": {
      "name": "python3",
      "display_name": "Python 3"
    },
    "language_info": {
      "name": "python"
    }
  },
  "cells": [
    {
      "cell_type": "markdown",
      "metadata": {
        "id": "view-in-github",
        "colab_type": "text"
      },
      "source": [
        "<a href=\"https://colab.research.google.com/github/Zeita03/SS2_Practica2_202104782/blob/main/practica2.ipynb\" target=\"_parent\"><img src=\"https://colab.research.google.com/assets/colab-badge.svg\" alt=\"Open In Colab\"/></a>"
      ]
    },
    {
      "cell_type": "markdown",
      "source": [
        "# Practica #2"
      ],
      "metadata": {
        "id": "XiW1vJ2bieqp"
      }
    },
    {
      "cell_type": "code",
      "source": [],
      "metadata": {
        "id": "7H_hcbzumgmn"
      },
      "execution_count": null,
      "outputs": []
    }
  ]
}